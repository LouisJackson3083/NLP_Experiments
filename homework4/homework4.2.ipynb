{
 "cells": [
  {
   "cell_type": "markdown",
   "metadata": {},
   "source": [
    "# Homework 4.1\n",
    "\n",
    "1. Consider the following mini collection of five sentences:\n",
    "\n",
    "sentence 1 There is a high demand in large scale matrix factorization algorithms\n",
    "\n",
    "sentence 2 Various softwares have been developed for non-negative matrix\n",
    "factorization.\n",
    "\n",
    "sentence 3 This is an introduction module to natural language processing.\n",
    "\n",
    "sentence 4 Linear algebra is important in many natural language processing\n",
    "problems.\n",
    "\n",
    "sentence 5 The factorization approach can be used for processing sparse\n",
    "matrix.\n",
    "\n",
    "And consider 4 indexed terms as below:\n",
    "\n",
    "term 1 matrix\n",
    "\n",
    "term 2 factorization\n",
    "\n",
    "term 3 natural language\n",
    "\n",
    "term 4 processing\n",
    "\n",
    "(a) Build a document-term matrix containing term counts in documents."
   ]
  },
  {
   "cell_type": "code",
   "execution_count": 33,
   "metadata": {},
   "outputs": [
    {
     "name": "stdout",
     "output_type": "stream",
     "text": [
      "[[1 1 0 0]\n",
      " [1 1 0 0]\n",
      " [0 0 1 1]\n",
      " [0 0 1 1]\n",
      " [2 1 0 1]]\n"
     ]
    }
   ],
   "source": [
    "import numpy as np\n",
    "\n",
    "sentences = [\n",
    "    'There is a high demand in large scale matrix factorization algorithms',\n",
    "    'Various softwares have been developed for non-negative matrix factorization.',\n",
    "    'This is an introduction module to natural language processing.',\n",
    "    'Linear algebra is important in many natural language processing problems.',\n",
    "    'The factorization approach can be used for processing sparse matrix matrix.'\n",
    "]\n",
    "\n",
    "terms = [\n",
    "    'matrix', 'factorization', 'natural language', 'processing'\n",
    "]\n",
    "\n",
    "dtm = [[0] * 4 for i in range(5)]\n",
    "\n",
    "for i, sentence in enumerate(sentences):\n",
    "    for j, term in enumerate(terms):\n",
    "        dtm[i][j] = sentence.count(term)\n",
    "\n",
    "dtm = np.array(dtm)\n",
    "print(dtm)"
   ]
  },
  {
   "cell_type": "markdown",
   "metadata": {},
   "source": [
    "(b) Calculate the similarity between the following pairs of words using the cosine\n",
    "function\n",
    "• “matrix” and “factorization”\n",
    "• “matrix” and “processing”"
   ]
  },
  {
   "cell_type": "code",
   "execution_count": 38,
   "metadata": {},
   "outputs": [
    {
     "name": "stdout",
     "output_type": "stream",
     "text": [
      "0.9428090415820635\n",
      "0.47140452079103173\n"
     ]
    }
   ],
   "source": [
    "def cosine_similarity(A, B):\n",
    "    return np.dot(A,B)/(np.linalg.norm(A)*np.linalg.norm(B))\n",
    "\n",
    "print(cosine_similarity(dtm[:, 0], dtm[:, 1]))\n",
    "print(cosine_similarity(dtm[:, 0], dtm[:, 3]))"
   ]
  },
  {
   "cell_type": "markdown",
   "metadata": {},
   "source": [
    "(c) Use the set of words {large, scale, matrix, factorization, algorithm, software, non-\n",
    "negative, develop, introduction, module, natural, language, processing, linear,\n",
    "algebra, sparse} as your dictionary. Build a term-context matrix by examining the\n",
    "+/- 2 and repeat (b) using this matrix. In this practice, assume the context of a\n",
    "target word includes this target word itself."
   ]
  },
  {
   "cell_type": "code",
   "execution_count": 57,
   "metadata": {},
   "outputs": [],
   "source": [
    "import nltk\n",
    "\n",
    "words = {\n",
    "    'large': {},\n",
    "    'scale': {}, \n",
    "    'matrix': {}, \n",
    "    'factorization': {}, \n",
    "    'algorithm': {}, \n",
    "    'software': {}, \n",
    "    'non-negative': {}, \n",
    "    'develop': {}, \n",
    "    'introduction': {}, \n",
    "    'module': {}, \n",
    "    'natural': {}, \n",
    "    'language': {}, \n",
    "    'processing': {}, \n",
    "    'linear': {}, \n",
    "    'algebra': {}, \n",
    "    'sparse': {},\n",
    "}\n",
    "\n",
    "tcm = np.identity(len(words))\n",
    "\n",
    "# for i in range(len(words)):\n",
    "#     for j in range(i, len(words)):\n",
    "#         if (words[i] == words[j]):\n",
    "#             continue\n",
    "#         for sentence in sentences:\n",
    "#             if (words[i] and words[j] in sentence):\n",
    "#                 print(sentence, words[i], words[j])\n",
    "\n",
    "\n",
    "    # for index1, word1 in enumerate(nltk.word_tokenize(sentence.lower())):\n",
    "    #     if (word1 in words):\n",
    "    #         for word2 in words:\n",
    "    #             if (word1 == word2):\n",
    "    #                 continue\n",
    "    #             if word2 in sentence.lower():\n",
    "    #                 print(word1, word2)\n",
    "# for i in range(len(words)):\n",
    "#     for j in range(i, len(words)):\n",
    "#         if (words[i] == words[j]):\n",
    "#             continue\n",
    "#         for sentence in sentences:\n",
    "#             if (words[i] and words[j] in sentence):\n",
    "#                 print(sentence, words[i], words[j])\n",
    "\n"
   ]
  },
  {
   "cell_type": "code",
   "execution_count": 70,
   "metadata": {},
   "outputs": [
    {
     "name": "stdout",
     "output_type": "stream",
     "text": [
      "{'large': {'scale': 2, 'matrix': 2}, 'scale': {'large': 2, 'matrix': 2, 'factorization': 2}, 'matrix': {'large': 2, 'scale': 2, 'factorization': 3, 'non-negative': 2, 'processing': 2, 'sparse': 3, 'matrix': 3}, 'factorization': {'scale': 2, 'matrix': 3, 'non-negative': 2}, 'algorithm': {}, 'software': {}, 'non-negative': {'matrix': 2, 'factorization': 2}, 'develop': {}, 'introduction': {'module': 2}, 'module': {'introduction': 2, 'natural': 2}, 'natural': {'module': 2, 'language': 3, 'processing': 3}, 'language': {'natural': 3, 'processing': 3}, 'processing': {'natural': 3, 'language': 3, 'sparse': 2, 'matrix': 2}, 'linear': {'algebra': 2}, 'algebra': {'linear': 2}, 'sparse': {'processing': 2, 'matrix': 3}}\n"
     ]
    }
   ],
   "source": [
    "for sentence in sentences:\n",
    "    sentence = nltk.word_tokenize(sentence.lower())\n",
    "    for i in range(len(sentence)):\n",
    "        if (sentence[i] not in words):\n",
    "            continue\n",
    "        current_word = sentence[i]\n",
    "        for j in range(max(0, i - 2), min(len(sentence), i + 3)):\n",
    "            if (i == j or sentence[j] not in words):\n",
    "                continue\n",
    "            if (words[current_word].get(sentence[j]) == None):\n",
    "                words[current_word][sentence[j]] = 1\n",
    "            else:  \n",
    "                words[current_word][sentence[j]] += 1\n",
    "\n",
    "print(words)\n",
    "\n"
   ]
  }
 ],
 "metadata": {
  "kernelspec": {
   "display_name": "Python 3",
   "language": "python",
   "name": "python3"
  },
  "language_info": {
   "codemirror_mode": {
    "name": "ipython",
    "version": 3
   },
   "file_extension": ".py",
   "mimetype": "text/x-python",
   "name": "python",
   "nbconvert_exporter": "python",
   "pygments_lexer": "ipython3",
   "version": "3.11.0"
  }
 },
 "nbformat": 4,
 "nbformat_minor": 2
}
