{
 "cells": [
  {
   "cell_type": "markdown",
   "metadata": {},
   "source": [
    "# Task 1\n",
    "### Method (b) - Dense Static Representation\n",
    "\n",
    "First we import all the libraries we want for this method, and import the training and test csv's."
   ]
  },
  {
   "cell_type": "code",
   "execution_count": 66,
   "metadata": {},
   "outputs": [],
   "source": [
    "from gensim.models import Word2Vec\n",
    "import pandas as pd\n",
    "import re\n",
    "import plotly.graph_objects as go\n",
    "import numpy as np\n",
    "\n",
    "train_df = pd.read_csv('./Training-dataset.csv')\n",
    "test_df = pd.read_csv('./Task-1-validation-dataset.csv', header=None)"
   ]
  },
  {
   "cell_type": "markdown",
   "metadata": {},
   "source": [
    "Now let's clean up the training dataset's synopses to have no punctuation, tags, numbers or special characters.\n",
    "This will get us an array of words."
   ]
  },
  {
   "cell_type": "code",
   "execution_count": 97,
   "metadata": {},
   "outputs": [],
   "source": [
    "clean_sentences = []\n",
    "count = 0\n",
    "\n",
    "for w in range(len(train_df['plot_synopsis'])): # For every synopsis\n",
    "\n",
    "# for w in range(2): # For every synopsis\n",
    "   \n",
    "\n",
    "   synopsis = train_df['plot_synopsis'][w].lower()\n",
    "\n",
    "   count += len(synopsis.split(' '))\n",
    "\n",
    "   synopsis = re.split(r'\\.|\\?|\\!', synopsis) # split the synopsis into sentences\n",
    "\n",
    "   for sentence in synopsis:\n",
    "      sentence = re.sub(\"&lt;/?.*?&gt;\",\" &lt;&gt; \", sentence) # remove tags\n",
    "      sentence = re.sub('\\'', '', sentence) # change any apostrophe into nothing\n",
    "      sentence = re.sub('[^a-zA-Z| ]', ' ', sentence) # remove any punctuation\n",
    "      sentence = re.sub(\"(\\\\d|\\\\W)+\", \" \", sentence) # remove numbers and special characters\n",
    "      sentence = sentence.split(' ') # split the sentence by spaces to get the words\n",
    "      sentence = ([word for word in sentence if len (word) > 0]) # Remove any \"empty\" characters\n",
    "      clean_sentences.append(sentence)\n",
    "\n",
    "print(len(clean_sentences))\n",
    "print(count)\n"
   ]
  },
  {
   "cell_type": "markdown",
   "metadata": {},
   "source": [
    "Call the model. This is where all the hyper parameters are set."
   ]
  },
  {
   "cell_type": "code",
   "execution_count": 93,
   "metadata": {},
   "outputs": [],
   "source": [
    "w2v = Word2Vec(clean_sentences, vector_size=100, window=5, min_count=1, workers=16)"
   ]
  },
  {
   "cell_type": "markdown",
   "metadata": {},
   "source": [
    "Define a cosine similarity function.\n",
    "\n",
    "This function takes in a model, and 2 words to find the cosine distance between.\n",
    "\n",
    "We return 0 if the word is OOV (out of vocabulary)."
   ]
  },
  {
   "cell_type": "code",
   "execution_count": 94,
   "metadata": {},
   "outputs": [
    {
     "data": {
      "text/plain": [
       "0.8374795"
      ]
     },
     "execution_count": 94,
     "metadata": {},
     "output_type": "execute_result"
    }
   ],
   "source": [
    "def cosine_similarity(model, word_a, word_b):\n",
    "    try:\n",
    "        vector_a = model.wv[word_a]\n",
    "    except:\n",
    "        return 0\n",
    "    try:\n",
    "        vector_b = model.wv[word_b]\n",
    "    except:\n",
    "        return 0\n",
    "\n",
    "    distance = np.dot(vector_a, vector_b) / (np.linalg.norm(vector_a) * np.linalg.norm(vector_b))\n",
    "    \n",
    "    return distance\n",
    "\n",
    "cosine_similarity(w2v, 'gritty', 'underbelly')"
   ]
  },
  {
   "cell_type": "code",
   "execution_count": 95,
   "metadata": {},
   "outputs": [
    {
     "name": "stdout",
     "output_type": "stream",
     "text": [
      "1 absorb learn 2.472459226846695\n",
      "2 absorb withdraw 6.455075740814209\n",
      "3 achieve accomplish 8.156099915504456\n",
      "4 achieve try 1.7143160104751587\n",
      "6 acquire get 3.1269487738609314\n",
      "7 acquire obtain 8.554601073265076\n",
      "8 acquire find 3.4299468994140625\n",
      "11 apple sauce 4.563473463058472\n",
      "12 apple lemon 4.431261122226715\n",
      "13 apple sunshine 4.068548083305359\n",
      "14 area region 7.313403487205505\n",
      "16 area corner 4.923021197319031\n",
      "17 arm shoulder 8.5727459192276\n",
      "20 arm body 5.64653754234314\n",
      "21 arm vein 2.802685499191284\n",
      "22 arm knee 7.422813773155212\n",
      "23 arm bone 5.537571907043457\n",
      "24 arm neck 8.408842086791992\n",
      "25 ball cannon 5.3203535079956055\n",
      "26 ball basket 4.895656108856201\n",
      "29 bath trick 3.022109270095825\n",
      "30 bath wife 1.1719601601362228\n",
      "31 bath balloon 4.3136098980903625\n",
      "32 bed bedroom 7.414822578430176\n",
      "33 bed blanket 5.97678542137146\n",
      "34 bed crib 5.437569618225098\n",
      "35 bed hospital 4.886257648468018\n",
      "38 bed chair 7.475957274436951\n",
      "39 belief opinion 5.994686484336853\n",
      "40 belief concept 5.350506901741028\n",
      "41 belief impression 4.563791453838348\n",
      "42 belief flower 1.6090530157089233\n",
      "43 bird hawk 4.510410130023956\n",
      "44 bird turkey 3.104313910007477\n",
      "45 bird hen 2.733367383480072\n",
      "46 bird cock 1.9344915449619293\n",
      "48 bone jaw 6.498244404792786\n",
      "49 bone ankle 6.192331910133362\n",
      "50 bone knee 5.36961555480957\n",
      "51 bone neck 6.09879732131958\n",
      "52 bone teeth 6.117028594017029\n",
      "53 bone elbow 5.166699290275574\n",
      "55 book literature 2.980777621269226\n",
      "56 book story 5.761839747428894\n",
      "57 book bible 7.581654191017151\n",
      "58 book topic 3.9228853583335876\n",
      "59 book information 4.264447391033173\n",
      "60 book essay 3.3363905549049377\n",
      "61 book article 6.746588349342346\n",
      "62 book theme 4.494405388832092\n",
      "64 boy brother 3.8529688119888306\n",
      "65 boy soldier 5.360350608825684\n",
      "67 cat lion 5.640973448753357\n",
      "68 cat pet 5.546017289161682\n",
      "69 cat rabbit 7.499237060546875\n",
      "72 clothes drawer 5.070485472679138\n",
      "73 clothes fabric 3.589940071105957\n",
      "74 clothes button 2.5568941235542297\n",
      "75 clothes coat 6.721908450126648\n",
      "76 clothes jacket 6.95363461971283\n",
      "77 create make 5.017092823982239\n",
      "80 create destroy 7.119293808937073\n",
      "81 cup cone 2.493581175804138\n",
      "82 cup jar 6.0789865255355835\n",
      "83 cup tableware 0\n",
      "84 cup artifact 2.858085334300995\n",
      "85 cup object 3.9731931686401367\n",
      "86 cup entity 0.9403552860021591\n",
      "87 cup food 5.082622766494751\n",
      "88 cup article 1.9851115345954895\n",
      "89 cup substance 4.740325212478638\n",
      "90 drink eat 6.3954466581344604\n",
      "91 drink car 2.9778799414634705\n",
      "92 drink mother 2.0713306963443756\n",
      "93 drink ear 3.265109360218048\n",
      "94 father parent 4.716089367866516\n",
      "95 father daughter 6.6623371839523315\n",
      "96 father brother 7.676635980606079\n",
      "97 father god 2.818429172039032\n",
      "98 flower violet 2.7694937586784363\n",
      "99 flower bulb 4.1762930154800415\n",
      "100 flower endurance 2.2083185613155365\n",
      "102 glass metal 8.178786039352417\n",
      "103 glass magician 0.8827365189790726\n",
      "104 guy stud 0.9828372299671173\n",
      "105 guy partner 2.002088725566864\n",
      "106 guy girl 7.224555015563965\n",
      "107 horse mare 1.9355003535747528\n",
      "109 horse ox 1.5467146039009094\n",
      "110 join add 4.704346656799316\n",
      "111 join marry 5.636741518974304\n",
      "112 join acquire 3.769679069519043\n",
      "113 king princess 6.52765154838562\n",
      "114 king queen 7.9033201932907104\n",
      "115 king rook 1.2691251933574677\n",
      "116 king cabbage 1.9149336218833923\n",
      "117 lose fail 5.9528011083602905\n",
      "118 lose keep 4.871344864368439\n",
      "119 lose get 4.068686366081238\n",
      "120 man uncle 1.4139632880687714\n",
      "121 man father 2.195136845111847\n",
      "122 man child 4.018605649471283\n",
      "123 man victor 2.363476902246475\n",
      "124 man sentry 2.955867648124695\n",
      "125 man husband 1.4654654264450073\n",
      "126 man warrior 3.8997504115104675\n",
      "127 man woman 7.716431021690369\n",
      "128 man governor 1.6539248824119568\n",
      "129 meat bacon 0.8532816916704178\n",
      "131 meat bread 6.102412939071655\n",
      "132 media radio 5.39928674697876\n",
      "133 media trading 4.913567900657654\n",
      "135 money salary 3.7497586011886597\n",
      "136 money pearl 0.5330915376543999\n",
      "137 money diamond 4.9093252420425415\n",
      "138 money cash 8.10067594051361\n",
      "140 precedent antecedent 0\n",
      "141 precedent information 1.5150617063045502\n",
      "142 precedent cognition 4.095386862754822\n",
      "144 precedent group 0.8311845362186432\n",
      "145 situation condition 5.075421333312988\n",
      "146 situation conclusion 3.0580630898475647\n",
      "147 situation isolation 2.0488429069519043\n",
      "148 street alley 5.2472251653671265\n",
      "149 street car 4.42116916179657\n",
      "150 street place 1.7978250980377197\n",
      "151 street avenue 3.3044368028640747\n",
      "155 take obtain 4.334472715854645\n",
      "156 take receive 3.682565987110138\n",
      "157 take carry 5.889427065849304\n",
      "158 take deliver 4.6989792585372925\n",
      "160 take leave 4.335539937019348\n",
      "161 tiger feline 4.304572641849518\n",
      "162 tiger carnivore 1.8164171278476715\n",
      "163 tiger mammal 1.8811598420143127\n",
      "164 tiger animal 2.7887335419654846\n",
      "165 tiger organism 1.1875879764556885\n",
      "166 tiger fauna 2.9500195384025574\n",
      "167 woman secretary 1.587953120470047\n",
      "168 woman wife 3.384288251399994\n",
      "172 happy cheerful 1.5324640274047852\n",
      "173 happy young 0.9228508919477463\n",
      "174 car horn 4.163044691085815\n",
      "175 car highway 4.960211217403412\n",
      "176 car gauge 1.1619507521390915\n",
      "177 car cab 7.084792852401733\n",
      "178 bad immoral 1.9200040400028229\n",
      "179 bad great 4.0414077043533325\n",
      "181 accept deliver 4.670487940311432\n",
      "182 accept believe 5.273796319961548\n"
     ]
    }
   ],
   "source": [
    "data = [] \n",
    "for index, row in test_df.iterrows():\n",
    "    predicted_similarity = cosine_similarity(w2v, row[1], row[2]) * 10\n",
    "    data.append([row[0], predicted_similarity])\n",
    "    print(row[0], row[1], row[2], predicted_similarity)\n",
    "output_df = pd.DataFrame(data)"
   ]
  },
  {
   "cell_type": "code",
   "execution_count": 96,
   "metadata": {},
   "outputs": [
    {
     "name": "stdout",
     "output_type": "stream",
     "text": [
      "       0         1\n",
      "0      1  2.472459\n",
      "1      2  6.455076\n",
      "2      3  8.156100\n",
      "3      4  1.714316\n",
      "4      6  3.126949\n",
      "..   ...       ...\n",
      "145  177  7.084793\n",
      "146  178  1.920004\n",
      "147  179  4.041408\n",
      "148  181  4.670488\n",
      "149  182  5.273796\n",
      "\n",
      "[150 rows x 2 columns]\n"
     ]
    }
   ],
   "source": [
    "from pathlib import Path  \n",
    "filepath = Path('./Task-1-dense-static-rep.csv')  \n",
    "filepath.parent.mkdir(parents=True, exist_ok=True)  \n",
    "print(output_df)\n",
    "output_df.to_csv(filepath, index=False, header=False)  "
   ]
  }
 ],
 "metadata": {
  "kernelspec": {
   "display_name": "venv",
   "language": "python",
   "name": "python3"
  },
  "language_info": {
   "codemirror_mode": {
    "name": "ipython",
    "version": 3
   },
   "file_extension": ".py",
   "mimetype": "text/x-python",
   "name": "python",
   "nbconvert_exporter": "python",
   "pygments_lexer": "ipython3",
   "version": "3.11.0"
  }
 },
 "nbformat": 4,
 "nbformat_minor": 2
}
