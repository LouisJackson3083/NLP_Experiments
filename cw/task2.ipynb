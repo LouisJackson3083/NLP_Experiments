{
 "cells": [
  {
   "cell_type": "code",
   "execution_count": 93,
   "metadata": {},
   "outputs": [],
   "source": [
    "import matplotlib.pyplot as plt\n",
    "import numpy as np\n",
    "import pandas as pd\n",
    "\n",
    "# text preprocessing modules\n",
    "import re\n",
    "from nltk import sent_tokenize\n",
    "from nltk import word_tokenize\n",
    "from nltk import WordNetLemmatizer\n",
    "from nltk import PorterStemmer\n",
    "from nltk.corpus import stopwords\n",
    "\n",
    "# ml\n",
    "from sklearn.model_selection import train_test_split\n",
    "from sklearn.pipeline import Pipeline\n",
    "from sklearn.feature_extraction.text import CountVectorizer\n",
    "from sklearn.multiclass import OneVsRestClassifier\n",
    "from sklearn.naive_bayes import MultinomialNB\n",
    "from sklearn.metrics import accuracy_score, recall_score, f1_score, precision_score\n",
    "\n",
    "# import the training and test dataframes\n",
    "train_df = pd.read_csv('./Training-dataset.csv')\n",
    "test_df = pd.read_csv('./Task-2-validation-dataset.csv')"
   ]
  },
  {
   "cell_type": "code",
   "execution_count": 65,
   "metadata": {},
   "outputs": [
    {
     "name": "stdout",
     "output_type": "stream",
     "text": [
      "Total number of movies = 8257\n",
      "Total number of movies without label = 0\n",
      "Total labels = 16193\n",
      "comedy        1262\n",
      "cult          1801\n",
      "flashback     1994\n",
      "historical     186\n",
      "murder        4019\n",
      "revenge       1657\n",
      "romantic      2006\n",
      "scifi          204\n",
      "violence      3064\n",
      "dtype: int64\n"
     ]
    }
   ],
   "source": [
    "# Returns a series of all the labels and how many films are classified by that label\n",
    "label_count = train_df.iloc[:,3:].sum()\n",
    "# For each movie return the number of labels assigned for that movie\n",
    "movie_label_count = train_df.iloc[:,3:].sum(axis=1) \n",
    "\n",
    "# Iterate through all our movies, count up any non-labeled movies\n",
    "no_label_count = 0\n",
    "for sum in movie_label_count.items():\n",
    "    if sum==0:\n",
    "        no_label_count +=1\n",
    "\n",
    "print(\"Total number of movies =\",len(train_df))\n",
    "print(\"Total number of movies without label =\",no_label_count)\n",
    "print(\"Total labels =\",label_count.sum())\n",
    "print(label_count)"
   ]
  },
  {
   "cell_type": "code",
   "execution_count": 66,
   "metadata": {},
   "outputs": [],
   "source": [
    "def preprocess_text(text):\n",
    "\n",
    "    # for sentence in sent_tokenize(synopsis):\n",
    "    # Remove non-alphabetic characters and convert to lowercase\n",
    "    text = re.sub('[^a-zA-Z]', ' ', text).lower()\n",
    "    # Tokenise the sentence\n",
    "    text = word_tokenize(text)\n",
    "    # get a set of the stopwords to remove\n",
    "    stop_words = set(stopwords.words('english'))\n",
    "    # Remove stopwords\n",
    "    text = [word for word in text if word not in stop_words]\n",
    "    # Lemmatize the words\n",
    "    lemmatizer = WordNetLemmatizer()\n",
    "    text = [lemmatizer.lemmatize(word) for word in text]\n",
    "\n",
    "    text = ' '.join(text)\n",
    "    return text\n"
   ]
  },
  {
   "cell_type": "code",
   "execution_count": 67,
   "metadata": {},
   "outputs": [],
   "source": [
    "train_df['text'] = train_df['title'] + ' ' + train_df['plot_synopsis']\n",
    "train_df.drop(columns=['title','plot_synopsis'], inplace=True)\n",
    "train_df['text'] = train_df['text'].apply(lambda x: preprocess_text(x))"
   ]
  },
  {
   "cell_type": "code",
   "execution_count": 68,
   "metadata": {},
   "outputs": [],
   "source": [
    "test_df['text'] = test_df['title'] + ' ' + test_df['plot_synopsis']\n",
    "test_df.drop(columns=['title','plot_synopsis'], inplace=True)\n",
    "test_df['text'] = test_df['text'].apply(lambda x: preprocess_text(x))"
   ]
  },
  {
   "cell_type": "code",
   "execution_count": 69,
   "metadata": {},
   "outputs": [
    {
     "name": "stdout",
     "output_type": "stream",
     "text": [
      "['comedy', 'cult', 'flashback', 'historical', 'murder', 'revenge', 'romantic', 'scifi', 'violence']\n"
     ]
    }
   ],
   "source": [
    "genres = list(train_df.iloc[:,1:10].columns)\n",
    "print(genres)"
   ]
  },
  {
   "cell_type": "code",
   "execution_count": 70,
   "metadata": {},
   "outputs": [
    {
     "name": "stdout",
     "output_type": "stream",
     "text": [
      "(8257, 42514)\n",
      "(1188, 42514)\n"
     ]
    }
   ],
   "source": [
    "countvectorizer = CountVectorizer(min_df=2, max_df=0.8)\n",
    "X_train = countvectorizer.fit_transform(train_df['text'])\n",
    "X_test = countvectorizer.transform(test_df['text'])\n",
    "print(X_train.shape)\n",
    "print(X_test.shape)"
   ]
  },
  {
   "cell_type": "code",
   "execution_count": 77,
   "metadata": {},
   "outputs": [
    {
     "name": "stdout",
     "output_type": "stream",
     "text": [
      "(8257,)\n",
      "(1188,)\n"
     ]
    }
   ],
   "source": [
    "Y_train = []\n",
    "Y_test = []\n",
    "for genre in genres:\n",
    "    Y_train.append(train_df[genre].to_numpy())\n",
    "    Y_test.append(test_df[genre].to_numpy())\n",
    "print(Y_train[0].shape)\n",
    "print(Y_test[0].shape)"
   ]
  },
  {
   "cell_type": "code",
   "execution_count": 83,
   "metadata": {},
   "outputs": [
    {
     "name": "stdout",
     "output_type": "stream",
     "text": [
      "Training & predicting with comedy model . . .\n",
      "Training & predicting with cult model . . .\n",
      "Training & predicting with flashback model . . .\n",
      "Training & predicting with historical model . . .\n",
      "Training & predicting with murder model . . .\n",
      "Training & predicting with revenge model . . .\n",
      "Training & predicting with romantic model . . .\n",
      "Training & predicting with scifi model . . .\n",
      "Training & predicting with violence model . . .\n"
     ]
    }
   ],
   "source": [
    "models = []\n",
    "predictions = []\n",
    "\n",
    "for i, genre in enumerate(genres):\n",
    "    print('Training & predicting with ' + genre + ' model . . .')\n",
    "\n",
    "    # Train the classifier\n",
    "    genre_model = MultinomialNB()\n",
    "    genre_model.fit(X_train, Y_train[i])\n",
    "\n",
    "    # Predict validation data\n",
    "    pred = genre_model.predict(X_test)\n",
    "\n",
    "    models.append(genre_model)\n",
    "    predictions.append(pred)\n"
   ]
  },
  {
   "cell_type": "code",
   "execution_count": 94,
   "metadata": {},
   "outputs": [
    {
     "name": "stdout",
     "output_type": "stream",
     "text": [
      "ACCURACY 0.7811447811447811\n",
      "PRECISION 0.33067729083665337\n",
      "RECALL 0.4742857142857143\n",
      "ACCURACY 0.7533670033670034\n",
      "PRECISION 0.4212328767123288\n",
      "RECALL 0.4979757085020243\n",
      "ACCURACY 0.6877104377104377\n",
      "PRECISION 0.3762057877813505\n",
      "RECALL 0.3979591836734694\n",
      "ACCURACY 0.9587542087542088\n",
      "PRECISION 0.16216216216216217\n",
      "RECALL 0.25\n",
      "ACCURACY 0.6978114478114478\n",
      "PRECISION 0.685\n",
      "RECALL 0.7074010327022375\n",
      "ACCURACY 0.7407407407407407\n",
      "PRECISION 0.35269709543568467\n",
      "RECALL 0.35864978902953587\n",
      "ACCURACY 0.7693602693602694\n",
      "PRECISION 0.5220994475138122\n",
      "RECALL 0.6517241379310345\n",
      "ACCURACY 0.9587542087542088\n",
      "PRECISION 0.2857142857142857\n",
      "RECALL 0.3870967741935484\n",
      "ACCURACY 0.7297979797979798\n",
      "PRECISION 0.6037735849056604\n",
      "RECALL 0.6857142857142857\n"
     ]
    }
   ],
   "source": [
    "for i in range(len(predictions)):\n",
    "    print(\"ACCURACY\", accuracy_score(Y_test[i],predictions[i]))\n",
    "    print(\"PRECISION\", precision_score(Y_test[i],predictions[i]))\n",
    "    print(\"RECALL\", recall_score(Y_test[i],predictions[i]))\n"
   ]
  },
  {
   "cell_type": "code",
   "execution_count": 95,
   "metadata": {},
   "outputs": [
    {
     "data": {
      "text/plain": [
       "array([[0, 0, 0, ..., 1, 0, 0],\n",
       "       [0, 0, 0, ..., 0, 0, 1],\n",
       "       [0, 0, 1, ..., 1, 0, 0],\n",
       "       ...,\n",
       "       [0, 1, 0, ..., 0, 0, 1],\n",
       "       [0, 0, 1, ..., 1, 0, 0],\n",
       "       [0, 1, 1, ..., 0, 0, 1]], dtype=int64)"
      ]
     },
     "execution_count": 95,
     "metadata": {},
     "output_type": "execute_result"
    }
   ],
   "source": [
    "predictions = np.array(predictions)\n",
    "predictions = np.transpose(predictions)\n",
    "predictions"
   ]
  },
  {
   "cell_type": "code",
   "execution_count": 96,
   "metadata": {},
   "outputs": [
    {
     "data": {
      "text/plain": [
       "array([['cf32cb00-172d-40f2-a3c1-936e8a0d89d7', 0, 0, ..., 1, 0, 0],\n",
       "       ['df7e125e-2d59-40e4-a126-9397e3a0ef21', 0, 0, ..., 0, 0, 1],\n",
       "       ['49bc73f3-9179-41cd-9774-905c7a3ac91b', 0, 0, ..., 1, 0, 0],\n",
       "       ...,\n",
       "       ['3d291d3b-c0b5-47cc-8dc8-127dc93162e3', 0, 1, ..., 0, 0, 1],\n",
       "       ['6c9b3034-56b3-42f6-874e-a821c9fd1a89', 0, 0, ..., 1, 0, 0],\n",
       "       ['fbd1d334-e979-465c-9fb0-e173d2642630', 0, 1, ..., 0, 0, 1]],\n",
       "      dtype=object)"
      ]
     },
     "execution_count": 96,
     "metadata": {},
     "output_type": "execute_result"
    }
   ],
   "source": [
    "id = test_df['ID'].to_numpy().reshape(predictions.shape[0], 1)\n",
    "all = np.hstack((id, predictions))\n",
    "all"
   ]
  },
  {
   "cell_type": "code",
   "execution_count": 97,
   "metadata": {},
   "outputs": [
    {
     "data": {
      "text/html": [
       "<div>\n",
       "<style scoped>\n",
       "    .dataframe tbody tr th:only-of-type {\n",
       "        vertical-align: middle;\n",
       "    }\n",
       "\n",
       "    .dataframe tbody tr th {\n",
       "        vertical-align: top;\n",
       "    }\n",
       "\n",
       "    .dataframe thead th {\n",
       "        text-align: right;\n",
       "    }\n",
       "</style>\n",
       "<table border=\"1\" class=\"dataframe\">\n",
       "  <thead>\n",
       "    <tr style=\"text-align: right;\">\n",
       "      <th></th>\n",
       "      <th>0</th>\n",
       "      <th>1</th>\n",
       "      <th>2</th>\n",
       "      <th>3</th>\n",
       "      <th>4</th>\n",
       "      <th>5</th>\n",
       "      <th>6</th>\n",
       "      <th>7</th>\n",
       "      <th>8</th>\n",
       "      <th>9</th>\n",
       "    </tr>\n",
       "  </thead>\n",
       "  <tbody>\n",
       "    <tr>\n",
       "      <th>0</th>\n",
       "      <td>cf32cb00-172d-40f2-a3c1-936e8a0d89d7</td>\n",
       "      <td>0</td>\n",
       "      <td>0</td>\n",
       "      <td>0</td>\n",
       "      <td>0</td>\n",
       "      <td>0</td>\n",
       "      <td>0</td>\n",
       "      <td>1</td>\n",
       "      <td>0</td>\n",
       "      <td>0</td>\n",
       "    </tr>\n",
       "    <tr>\n",
       "      <th>1</th>\n",
       "      <td>df7e125e-2d59-40e4-a126-9397e3a0ef21</td>\n",
       "      <td>0</td>\n",
       "      <td>0</td>\n",
       "      <td>0</td>\n",
       "      <td>0</td>\n",
       "      <td>1</td>\n",
       "      <td>0</td>\n",
       "      <td>0</td>\n",
       "      <td>0</td>\n",
       "      <td>1</td>\n",
       "    </tr>\n",
       "    <tr>\n",
       "      <th>2</th>\n",
       "      <td>49bc73f3-9179-41cd-9774-905c7a3ac91b</td>\n",
       "      <td>0</td>\n",
       "      <td>0</td>\n",
       "      <td>1</td>\n",
       "      <td>0</td>\n",
       "      <td>0</td>\n",
       "      <td>0</td>\n",
       "      <td>1</td>\n",
       "      <td>0</td>\n",
       "      <td>0</td>\n",
       "    </tr>\n",
       "    <tr>\n",
       "      <th>3</th>\n",
       "      <td>0ed4822b-87af-44bc-a677-7f7abfdaccf3</td>\n",
       "      <td>0</td>\n",
       "      <td>0</td>\n",
       "      <td>0</td>\n",
       "      <td>0</td>\n",
       "      <td>0</td>\n",
       "      <td>1</td>\n",
       "      <td>1</td>\n",
       "      <td>0</td>\n",
       "      <td>0</td>\n",
       "    </tr>\n",
       "    <tr>\n",
       "      <th>4</th>\n",
       "      <td>0b1b0fa4-43bc-41ba-9598-b3401894b96d</td>\n",
       "      <td>1</td>\n",
       "      <td>0</td>\n",
       "      <td>0</td>\n",
       "      <td>0</td>\n",
       "      <td>1</td>\n",
       "      <td>1</td>\n",
       "      <td>0</td>\n",
       "      <td>0</td>\n",
       "      <td>0</td>\n",
       "    </tr>\n",
       "    <tr>\n",
       "      <th>...</th>\n",
       "      <td>...</td>\n",
       "      <td>...</td>\n",
       "      <td>...</td>\n",
       "      <td>...</td>\n",
       "      <td>...</td>\n",
       "      <td>...</td>\n",
       "      <td>...</td>\n",
       "      <td>...</td>\n",
       "      <td>...</td>\n",
       "      <td>...</td>\n",
       "    </tr>\n",
       "    <tr>\n",
       "      <th>1183</th>\n",
       "      <td>d32be875-41c7-4e84-ac04-e1d3bc3df0fe</td>\n",
       "      <td>0</td>\n",
       "      <td>0</td>\n",
       "      <td>1</td>\n",
       "      <td>0</td>\n",
       "      <td>0</td>\n",
       "      <td>0</td>\n",
       "      <td>1</td>\n",
       "      <td>0</td>\n",
       "      <td>0</td>\n",
       "    </tr>\n",
       "    <tr>\n",
       "      <th>1184</th>\n",
       "      <td>84e025dd-4b4e-403c-a3dd-34818b210857</td>\n",
       "      <td>0</td>\n",
       "      <td>0</td>\n",
       "      <td>0</td>\n",
       "      <td>0</td>\n",
       "      <td>1</td>\n",
       "      <td>0</td>\n",
       "      <td>0</td>\n",
       "      <td>0</td>\n",
       "      <td>0</td>\n",
       "    </tr>\n",
       "    <tr>\n",
       "      <th>1185</th>\n",
       "      <td>3d291d3b-c0b5-47cc-8dc8-127dc93162e3</td>\n",
       "      <td>0</td>\n",
       "      <td>1</td>\n",
       "      <td>0</td>\n",
       "      <td>0</td>\n",
       "      <td>0</td>\n",
       "      <td>0</td>\n",
       "      <td>0</td>\n",
       "      <td>0</td>\n",
       "      <td>1</td>\n",
       "    </tr>\n",
       "    <tr>\n",
       "      <th>1186</th>\n",
       "      <td>6c9b3034-56b3-42f6-874e-a821c9fd1a89</td>\n",
       "      <td>0</td>\n",
       "      <td>0</td>\n",
       "      <td>1</td>\n",
       "      <td>0</td>\n",
       "      <td>0</td>\n",
       "      <td>0</td>\n",
       "      <td>1</td>\n",
       "      <td>0</td>\n",
       "      <td>0</td>\n",
       "    </tr>\n",
       "    <tr>\n",
       "      <th>1187</th>\n",
       "      <td>fbd1d334-e979-465c-9fb0-e173d2642630</td>\n",
       "      <td>0</td>\n",
       "      <td>1</td>\n",
       "      <td>1</td>\n",
       "      <td>0</td>\n",
       "      <td>0</td>\n",
       "      <td>1</td>\n",
       "      <td>0</td>\n",
       "      <td>0</td>\n",
       "      <td>1</td>\n",
       "    </tr>\n",
       "  </tbody>\n",
       "</table>\n",
       "<p>1188 rows × 10 columns</p>\n",
       "</div>"
      ],
      "text/plain": [
       "                                         0  1  2  3  4  5  6  7  8  9\n",
       "0     cf32cb00-172d-40f2-a3c1-936e8a0d89d7  0  0  0  0  0  0  1  0  0\n",
       "1     df7e125e-2d59-40e4-a126-9397e3a0ef21  0  0  0  0  1  0  0  0  1\n",
       "2     49bc73f3-9179-41cd-9774-905c7a3ac91b  0  0  1  0  0  0  1  0  0\n",
       "3     0ed4822b-87af-44bc-a677-7f7abfdaccf3  0  0  0  0  0  1  1  0  0\n",
       "4     0b1b0fa4-43bc-41ba-9598-b3401894b96d  1  0  0  0  1  1  0  0  0\n",
       "...                                    ... .. .. .. .. .. .. .. .. ..\n",
       "1183  d32be875-41c7-4e84-ac04-e1d3bc3df0fe  0  0  1  0  0  0  1  0  0\n",
       "1184  84e025dd-4b4e-403c-a3dd-34818b210857  0  0  0  0  1  0  0  0  0\n",
       "1185  3d291d3b-c0b5-47cc-8dc8-127dc93162e3  0  1  0  0  0  0  0  0  1\n",
       "1186  6c9b3034-56b3-42f6-874e-a821c9fd1a89  0  0  1  0  0  0  1  0  0\n",
       "1187  fbd1d334-e979-465c-9fb0-e173d2642630  0  1  1  0  0  1  0  0  1\n",
       "\n",
       "[1188 rows x 10 columns]"
      ]
     },
     "execution_count": 97,
     "metadata": {},
     "output_type": "execute_result"
    }
   ],
   "source": [
    "output_df = pd.DataFrame(all)\n",
    "output_df"
   ]
  },
  {
   "cell_type": "code",
   "execution_count": 98,
   "metadata": {},
   "outputs": [
    {
     "name": "stdout",
     "output_type": "stream",
     "text": [
      "                                         0  1  2  3  4  5  6  7  8  9\n",
      "0     cf32cb00-172d-40f2-a3c1-936e8a0d89d7  0  0  0  0  0  0  1  0  0\n",
      "1     df7e125e-2d59-40e4-a126-9397e3a0ef21  0  0  0  0  1  0  0  0  1\n",
      "2     49bc73f3-9179-41cd-9774-905c7a3ac91b  0  0  1  0  0  0  1  0  0\n",
      "3     0ed4822b-87af-44bc-a677-7f7abfdaccf3  0  0  0  0  0  1  1  0  0\n",
      "4     0b1b0fa4-43bc-41ba-9598-b3401894b96d  1  0  0  0  1  1  0  0  0\n",
      "...                                    ... .. .. .. .. .. .. .. .. ..\n",
      "1183  d32be875-41c7-4e84-ac04-e1d3bc3df0fe  0  0  1  0  0  0  1  0  0\n",
      "1184  84e025dd-4b4e-403c-a3dd-34818b210857  0  0  0  0  1  0  0  0  0\n",
      "1185  3d291d3b-c0b5-47cc-8dc8-127dc93162e3  0  1  0  0  0  0  0  0  1\n",
      "1186  6c9b3034-56b3-42f6-874e-a821c9fd1a89  0  0  1  0  0  0  1  0  0\n",
      "1187  fbd1d334-e979-465c-9fb0-e173d2642630  0  1  1  0  0  1  0  0  1\n",
      "\n",
      "[1188 rows x 10 columns]\n"
     ]
    }
   ],
   "source": [
    "from pathlib import Path\n",
    "filepath = Path('./10861383-Task2-method-a.csv')  \n",
    "filepath.parent.mkdir(parents=True, exist_ok=True)  \n",
    "print(output_df)\n",
    "output_df.to_csv(filepath, index=False, header=False)  "
   ]
  }
 ],
 "metadata": {
  "kernelspec": {
   "display_name": "venv",
   "language": "python",
   "name": "python3"
  },
  "language_info": {
   "codemirror_mode": {
    "name": "ipython",
    "version": 3
   },
   "file_extension": ".py",
   "mimetype": "text/x-python",
   "name": "python",
   "nbconvert_exporter": "python",
   "pygments_lexer": "ipython3",
   "version": "3.11.0"
  }
 },
 "nbformat": 4,
 "nbformat_minor": 2
}
